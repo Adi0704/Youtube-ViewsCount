{
 "cells": [
  {
   "cell_type": "code",
   "execution_count": 2,
   "metadata": {},
   "outputs": [],
   "source": [
    "#Importing essential libraries\n",
    "from bs4 import BeautifulSoup\n",
    "import requests\n",
    "import csv \n",
    "import datetime\n",
    "import time\n",
    "import smtplib"
   ]
  },
  {
   "attachments": {},
   "cell_type": "markdown",
   "metadata": {},
   "source": [
    "Opening a csv file called youtube.csv and adding the headers to it"
   ]
  },
  {
   "cell_type": "code",
   "execution_count": 3,
   "metadata": {},
   "outputs": [],
   "source": [
    "\n",
    "with open('youtube.csv', 'w', newline='', encoding='UTF8') as f:\n",
    "    writer = csv.writer(f)\n",
    "    header=['Views','Time Stamp']\n",
    "    writer.writerow(header)\n",
    "\n"
   ]
  },
  {
   "attachments": {},
   "cell_type": "markdown",
   "metadata": {},
   "source": [
    "Seperate function to extract the number of views and to check the type of it"
   ]
  },
  {
   "cell_type": "code",
   "execution_count": 4,
   "metadata": {},
   "outputs": [
    {
     "name": "stdout",
     "output_type": "stream",
     "text": [
      "<class 'int'>\n"
     ]
    }
   ],
   "source": [
    "URL = 'https://www.youtube.com/watch?v=4M60iSPyCwA'\n",
    "\n",
    "headers = {\"User-Agent\": \"Mozilla/5.0 (Windows NT 10.0; Win64; x64) AppleWebKit/537.36 (KHTML, like Gecko) Chrome/114.0.0.0 Safari/537.36\"}\n",
    "\n",
    "page = requests.get(URL, headers=headers)\n",
    "\n",
    "soup = BeautifulSoup(page.text, \"html.parser\")\n",
    "\n",
    "soup = BeautifulSoup(soup.prettify(), \"html.parser\")\n",
    "views_meta = soup.find('meta', {'itemprop': 'interactionCount'})\n",
    "views = views_meta['content']\n",
    "views=int(views)\n",
    "print(type(views))\n"
   ]
  },
  {
   "attachments": {},
   "cell_type": "markdown",
   "metadata": {},
   "source": [
    "Writing the send_mail() function which sends a mail once the viewership threshold has crossed\n",
    "1.Replace username and password with the login credentials..Refer to the readme file for the right password else it will not work\n",
    "2.Fill the to_email field with the email_ID of end user\n",
    "3.You can change subject,body,message according to your use case"
   ]
  },
  {
   "cell_type": "code",
   "execution_count": 5,
   "metadata": {},
   "outputs": [],
   "source": [
    "def send_mail():\n",
    "    server = smtplib.SMTP_SSL('smtp.gmail.com', 465)\n",
    "    server.ehlo()\n",
    "\n",
    "\n",
    "    username = ''\n",
    "    password = ''\n",
    "    server.login(username, password)\n",
    "\n",
    "    from_email = username\n",
    "    to_email = 'hombaladitya30@gmail.com'\n",
    "    subject = 'ViewerShip Crossed'\n",
    "    current_time = datetime.datetime.now().strftime(\"%H:%M:%S\")\n",
    "    body = f'The viewership has crossed your limit at {current_time}'\n",
    "    message = f'Subject: {subject}\\n\\n{body}'\n",
    "\n",
    "    server.sendmail(from_email, to_email, message)   \n",
    "    \n",
    "     \n",
    "\n",
    "\n",
    "\n"
   ]
  },
  {
   "attachments": {},
   "cell_type": "markdown",
   "metadata": {},
   "source": [
    "Writing the check views function to retrieve data and fill the table and also check if the threshold has crossed at the same time to call the send_mail function"
   ]
  },
  {
   "cell_type": "code",
   "execution_count": 12,
   "metadata": {},
   "outputs": [],
   "source": [
    "def check_views():\n",
    "    URL = 'https://www.youtube.com/watch?v=rqGstD9_ouA'\n",
    "\n",
    "    headers = {\"User-Agent\": \"Mozilla/5.0 (Windows NT 10.0; Win64; x64) AppleWebKit/537.36 (KHTML, like Gecko) Chrome/114.0.0.0 Safari/537.36\"}\n",
    "\n",
    "    page = requests.get(URL, headers=headers)\n",
    "\n",
    "    soup = BeautifulSoup(page.text, \"html.parser\")\n",
    "\n",
    "    soup = BeautifulSoup(soup.prettify(), \"html.parser\")\n",
    "    views_meta = soup.find('meta', {'itemprop': 'interactionCount'})\n",
    "    views = views_meta['content']\n",
    "    views=int(views)\n",
    "    current_time = datetime.datetime.now().strftime(\"%H:%M:%S\")\n",
    "    threshold=1958\n",
    "    data = [views,current_time]\n",
    "\n",
    "    with open('youtube.csv', 'a+', newline='', encoding='UTF8') as f:\n",
    "        writer = csv.writer(f)\n",
    "        writer.writerow(data)\n",
    "    if views>threshold:\n",
    "        send_mail()\n",
    "        return 1\n",
    "    return 0\n",
    "    \n",
    "\n",
    " \n",
    "    "
   ]
  },
  {
   "attachments": {},
   "cell_type": "markdown",
   "metadata": {},
   "source": [
    "The main function which you need to run to start the application"
   ]
  },
  {
   "cell_type": "code",
   "execution_count": 13,
   "metadata": {},
   "outputs": [
    {
     "ename": "SMTPAuthenticationError",
     "evalue": "(535, b'5.7.8 Username and Password not accepted. Learn more at\\n5.7.8  https://support.google.com/mail/?p=BadCredentials d25-20020aa78699000000b0065fd8075ba0sm3708945pfo.212 - gsmtp')",
     "output_type": "error",
     "traceback": [
      "\u001b[1;31m---------------------------------------------------------------------------\u001b[0m",
      "\u001b[1;31mSMTPAuthenticationError\u001b[0m                   Traceback (most recent call last)",
      "\u001b[1;32me:\\Data Science Proj\\Beautiful Soup\\main.ipynb Cell 11\u001b[0m in \u001b[0;36m<cell line: 7>\u001b[1;34m()\u001b[0m\n\u001b[0;32m      <a href='vscode-notebook-cell:/e%3A/Data%20Science%20Proj/Beautiful%20Soup/main.ipynb#X13sZmlsZQ%3D%3D?line=4'>5</a>\u001b[0m             \u001b[39mbreak\u001b[39;00m\n\u001b[0;32m      <a href='vscode-notebook-cell:/e%3A/Data%20Science%20Proj/Beautiful%20Soup/main.ipynb#X13sZmlsZQ%3D%3D?line=5'>6</a>\u001b[0m         time\u001b[39m.\u001b[39msleep(\u001b[39m10\u001b[39m)\n\u001b[1;32m----> <a href='vscode-notebook-cell:/e%3A/Data%20Science%20Proj/Beautiful%20Soup/main.ipynb#X13sZmlsZQ%3D%3D?line=6'>7</a>\u001b[0m main()\n",
      "\u001b[1;32me:\\Data Science Proj\\Beautiful Soup\\main.ipynb Cell 11\u001b[0m in \u001b[0;36mmain\u001b[1;34m()\u001b[0m\n\u001b[0;32m      <a href='vscode-notebook-cell:/e%3A/Data%20Science%20Proj/Beautiful%20Soup/main.ipynb#X13sZmlsZQ%3D%3D?line=0'>1</a>\u001b[0m \u001b[39mdef\u001b[39;00m \u001b[39mmain\u001b[39m():\n\u001b[0;32m      <a href='vscode-notebook-cell:/e%3A/Data%20Science%20Proj/Beautiful%20Soup/main.ipynb#X13sZmlsZQ%3D%3D?line=1'>2</a>\u001b[0m     \u001b[39mwhile\u001b[39;00m(\u001b[39mTrue\u001b[39;00m):\n\u001b[1;32m----> <a href='vscode-notebook-cell:/e%3A/Data%20Science%20Proj/Beautiful%20Soup/main.ipynb#X13sZmlsZQ%3D%3D?line=2'>3</a>\u001b[0m         check\u001b[39m=\u001b[39mcheck_views()\n\u001b[0;32m      <a href='vscode-notebook-cell:/e%3A/Data%20Science%20Proj/Beautiful%20Soup/main.ipynb#X13sZmlsZQ%3D%3D?line=3'>4</a>\u001b[0m         \u001b[39mif\u001b[39;00m check\u001b[39m==\u001b[39m\u001b[39m1\u001b[39m:\n\u001b[0;32m      <a href='vscode-notebook-cell:/e%3A/Data%20Science%20Proj/Beautiful%20Soup/main.ipynb#X13sZmlsZQ%3D%3D?line=4'>5</a>\u001b[0m             \u001b[39mbreak\u001b[39;00m\n",
      "\u001b[1;32me:\\Data Science Proj\\Beautiful Soup\\main.ipynb Cell 11\u001b[0m in \u001b[0;36mcheck_views\u001b[1;34m()\u001b[0m\n\u001b[0;32m     <a href='vscode-notebook-cell:/e%3A/Data%20Science%20Proj/Beautiful%20Soup/main.ipynb#X13sZmlsZQ%3D%3D?line=19'>20</a>\u001b[0m     writer\u001b[39m.\u001b[39mwriterow(data)\n\u001b[0;32m     <a href='vscode-notebook-cell:/e%3A/Data%20Science%20Proj/Beautiful%20Soup/main.ipynb#X13sZmlsZQ%3D%3D?line=20'>21</a>\u001b[0m \u001b[39mif\u001b[39;00m views\u001b[39m>\u001b[39mthreshold:\n\u001b[1;32m---> <a href='vscode-notebook-cell:/e%3A/Data%20Science%20Proj/Beautiful%20Soup/main.ipynb#X13sZmlsZQ%3D%3D?line=21'>22</a>\u001b[0m     send_mail()\n\u001b[0;32m     <a href='vscode-notebook-cell:/e%3A/Data%20Science%20Proj/Beautiful%20Soup/main.ipynb#X13sZmlsZQ%3D%3D?line=22'>23</a>\u001b[0m     \u001b[39mreturn\u001b[39;00m \u001b[39m1\u001b[39m\n\u001b[0;32m     <a href='vscode-notebook-cell:/e%3A/Data%20Science%20Proj/Beautiful%20Soup/main.ipynb#X13sZmlsZQ%3D%3D?line=23'>24</a>\u001b[0m \u001b[39mreturn\u001b[39;00m \u001b[39m0\u001b[39m\n",
      "\u001b[1;32me:\\Data Science Proj\\Beautiful Soup\\main.ipynb Cell 11\u001b[0m in \u001b[0;36msend_mail\u001b[1;34m()\u001b[0m\n\u001b[0;32m      <a href='vscode-notebook-cell:/e%3A/Data%20Science%20Proj/Beautiful%20Soup/main.ipynb#X13sZmlsZQ%3D%3D?line=5'>6</a>\u001b[0m username \u001b[39m=\u001b[39m \u001b[39m'\u001b[39m\u001b[39m'\u001b[39m\n\u001b[0;32m      <a href='vscode-notebook-cell:/e%3A/Data%20Science%20Proj/Beautiful%20Soup/main.ipynb#X13sZmlsZQ%3D%3D?line=6'>7</a>\u001b[0m password \u001b[39m=\u001b[39m \u001b[39m'\u001b[39m\u001b[39m'\u001b[39m\n\u001b[1;32m----> <a href='vscode-notebook-cell:/e%3A/Data%20Science%20Proj/Beautiful%20Soup/main.ipynb#X13sZmlsZQ%3D%3D?line=7'>8</a>\u001b[0m server\u001b[39m.\u001b[39;49mlogin(username, password)\n\u001b[0;32m     <a href='vscode-notebook-cell:/e%3A/Data%20Science%20Proj/Beautiful%20Soup/main.ipynb#X13sZmlsZQ%3D%3D?line=9'>10</a>\u001b[0m from_email \u001b[39m=\u001b[39m username\n\u001b[0;32m     <a href='vscode-notebook-cell:/e%3A/Data%20Science%20Proj/Beautiful%20Soup/main.ipynb#X13sZmlsZQ%3D%3D?line=10'>11</a>\u001b[0m to_email \u001b[39m=\u001b[39m \u001b[39m'\u001b[39m\u001b[39mhombaladitya30@gmail.com\u001b[39m\u001b[39m'\u001b[39m\n",
      "File \u001b[1;32mc:\\Users\\Aditya\\AppData\\Local\\Programs\\Python\\Python310\\lib\\smtplib.py:750\u001b[0m, in \u001b[0;36mSMTP.login\u001b[1;34m(self, user, password, initial_response_ok)\u001b[0m\n\u001b[0;32m    747\u001b[0m         last_exception \u001b[39m=\u001b[39m e\n\u001b[0;32m    749\u001b[0m \u001b[39m# We could not login successfully.  Return result of last attempt.\u001b[39;00m\n\u001b[1;32m--> 750\u001b[0m \u001b[39mraise\u001b[39;00m last_exception\n",
      "File \u001b[1;32mc:\\Users\\Aditya\\AppData\\Local\\Programs\\Python\\Python310\\lib\\smtplib.py:739\u001b[0m, in \u001b[0;36mSMTP.login\u001b[1;34m(self, user, password, initial_response_ok)\u001b[0m\n\u001b[0;32m    737\u001b[0m method_name \u001b[39m=\u001b[39m \u001b[39m'\u001b[39m\u001b[39mauth_\u001b[39m\u001b[39m'\u001b[39m \u001b[39m+\u001b[39m authmethod\u001b[39m.\u001b[39mlower()\u001b[39m.\u001b[39mreplace(\u001b[39m'\u001b[39m\u001b[39m-\u001b[39m\u001b[39m'\u001b[39m, \u001b[39m'\u001b[39m\u001b[39m_\u001b[39m\u001b[39m'\u001b[39m)\n\u001b[0;32m    738\u001b[0m \u001b[39mtry\u001b[39;00m:\n\u001b[1;32m--> 739\u001b[0m     (code, resp) \u001b[39m=\u001b[39m \u001b[39mself\u001b[39;49m\u001b[39m.\u001b[39;49mauth(\n\u001b[0;32m    740\u001b[0m         authmethod, \u001b[39mgetattr\u001b[39;49m(\u001b[39mself\u001b[39;49m, method_name),\n\u001b[0;32m    741\u001b[0m         initial_response_ok\u001b[39m=\u001b[39;49minitial_response_ok)\n\u001b[0;32m    742\u001b[0m     \u001b[39m# 235 == 'Authentication successful'\u001b[39;00m\n\u001b[0;32m    743\u001b[0m     \u001b[39m# 503 == 'Error: already authenticated'\u001b[39;00m\n\u001b[0;32m    744\u001b[0m     \u001b[39mif\u001b[39;00m code \u001b[39min\u001b[39;00m (\u001b[39m235\u001b[39m, \u001b[39m503\u001b[39m):\n",
      "File \u001b[1;32mc:\\Users\\Aditya\\AppData\\Local\\Programs\\Python\\Python310\\lib\\smtplib.py:662\u001b[0m, in \u001b[0;36mSMTP.auth\u001b[1;34m(self, mechanism, authobject, initial_response_ok)\u001b[0m\n\u001b[0;32m    660\u001b[0m \u001b[39mif\u001b[39;00m code \u001b[39min\u001b[39;00m (\u001b[39m235\u001b[39m, \u001b[39m503\u001b[39m):\n\u001b[0;32m    661\u001b[0m     \u001b[39mreturn\u001b[39;00m (code, resp)\n\u001b[1;32m--> 662\u001b[0m \u001b[39mraise\u001b[39;00m SMTPAuthenticationError(code, resp)\n",
      "\u001b[1;31mSMTPAuthenticationError\u001b[0m: (535, b'5.7.8 Username and Password not accepted. Learn more at\\n5.7.8  https://support.google.com/mail/?p=BadCredentials d25-20020aa78699000000b0065fd8075ba0sm3708945pfo.212 - gsmtp')"
     ]
    }
   ],
   "source": [
    "\n",
    "\n",
    "def main():\n",
    "    while(True):\n",
    "        check=check_views()\n",
    "        if check==1:\n",
    "            break\n",
    "        time.sleep(10)\n",
    "main()\n"
   ]
  }
 ],
 "metadata": {
  "kernelspec": {
   "display_name": "Python 3",
   "language": "python",
   "name": "python3"
  },
  "language_info": {
   "codemirror_mode": {
    "name": "ipython",
    "version": 3
   },
   "file_extension": ".py",
   "mimetype": "text/x-python",
   "name": "python",
   "nbconvert_exporter": "python",
   "pygments_lexer": "ipython3",
   "version": "3.10.2"
  },
  "orig_nbformat": 4
 },
 "nbformat": 4,
 "nbformat_minor": 2
}
